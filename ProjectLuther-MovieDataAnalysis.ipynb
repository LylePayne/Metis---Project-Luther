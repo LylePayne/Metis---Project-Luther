{
 "metadata": {
  "name": "",
  "signature": "sha256:0f881693d04f36d79feb68e62e02ad35f5fce6f690dd9a5762dd8d0d1cfb4892"
 },
 "nbformat": 3,
 "nbformat_minor": 0,
 "worksheets": [
  {
   "cells": [
    {
     "cell_type": "markdown",
     "metadata": {},
     "source": [
      "###Pulling in data to look at predicting Oscar nominations with logistic regression"
     ]
    },
    {
     "cell_type": "code",
     "collapsed": false,
     "input": [
      "import pandas as pd\n",
      "import numpy as np\n",
      "import matplotlib.pyplot as plt\n",
      "import urllib2\n",
      "from bs4 import BeautifulSoup\n",
      "import re\n",
      "import dateutil.parser\n",
      "import pprint as pp\n",
      "import pickle\n",
      "from datetime import datetime\n",
      "import pprint as pp\n",
      "import statsmodels.formula.api as sm\n",
      "import random\n",
      "from statsmodels.discrete.discrete_model import Logit\n",
      "from sklearn.metrics import accuracy_score, precision_score, recall_score\n",
      "import seaborn as sn"
     ],
     "language": "python",
     "metadata": {},
     "outputs": [],
     "prompt_number": 1
    },
    {
     "cell_type": "markdown",
     "metadata": {},
     "source": [
      "####Importing Data and combining data sets"
     ]
    },
    {
     "cell_type": "code",
     "collapsed": false,
     "input": [
      "with open('my_oscar_data.pkl', 'r') as picklefile:\n",
      "    oscar_list = pickle.load(picklefile)"
     ],
     "language": "python",
     "metadata": {},
     "outputs": [],
     "prompt_number": 2
    },
    {
     "cell_type": "code",
     "collapsed": false,
     "input": [
      "with open('oscar2014_pkl', 'r') as picklefile:\n",
      "    oscar_list_2014 = pickle.load(picklefile)"
     ],
     "language": "python",
     "metadata": {},
     "outputs": [],
     "prompt_number": 3
    },
    {
     "cell_type": "code",
     "collapsed": false,
     "input": [
      "#oscar_list_2014.head()"
     ],
     "language": "python",
     "metadata": {},
     "outputs": [],
     "prompt_number": 4
    },
    {
     "cell_type": "code",
     "collapsed": false,
     "input": [
      "list_of_oscars = [oscar_list, oscar_list_2014]"
     ],
     "language": "python",
     "metadata": {},
     "outputs": [],
     "prompt_number": 5
    },
    {
     "cell_type": "code",
     "collapsed": false,
     "input": [
      "oscar_nom_list = pd.concat(list_of_oscars)"
     ],
     "language": "python",
     "metadata": {},
     "outputs": [],
     "prompt_number": 6
    },
    {
     "cell_type": "code",
     "collapsed": false,
     "input": [
      "oscar_nom_list['Oscar'] = 1"
     ],
     "language": "python",
     "metadata": {},
     "outputs": [],
     "prompt_number": 7
    },
    {
     "cell_type": "code",
     "collapsed": false,
     "input": [
      "len(oscar_nom_list)"
     ],
     "language": "python",
     "metadata": {},
     "outputs": [
      {
       "metadata": {},
       "output_type": "pyout",
       "prompt_number": 8,
       "text": [
        "105"
       ]
      }
     ],
     "prompt_number": 8
    },
    {
     "cell_type": "code",
     "collapsed": false,
     "input": [
      "with open('non_oscar_dataframe_2014updated.pkl', 'r') as picklefile:\n",
      "    non_oscar_data = pickle.load(picklefile)"
     ],
     "language": "python",
     "metadata": {},
     "outputs": [],
     "prompt_number": 9
    },
    {
     "cell_type": "code",
     "collapsed": false,
     "input": [
      "len(non_oscar_data)"
     ],
     "language": "python",
     "metadata": {},
     "outputs": [
      {
       "metadata": {},
       "output_type": "pyout",
       "prompt_number": 10,
       "text": [
        "9471"
       ]
      }
     ],
     "prompt_number": 10
    },
    {
     "cell_type": "code",
     "collapsed": false,
     "input": [
      "non_oscar_data['Oscar'] = 0"
     ],
     "language": "python",
     "metadata": {},
     "outputs": [],
     "prompt_number": 11
    },
    {
     "cell_type": "code",
     "collapsed": false,
     "input": [
      "combine_data_list = [oscar_nom_list, non_oscar_data]\n",
      "movie_data = pd.concat(combine_data_list)\n",
      "len(movie_data)"
     ],
     "language": "python",
     "metadata": {},
     "outputs": [
      {
       "metadata": {},
       "output_type": "pyout",
       "prompt_number": 14,
       "text": [
        "9576"
       ]
      }
     ],
     "prompt_number": 14
    },
    {
     "cell_type": "code",
     "collapsed": false,
     "input": [
      "##Checking number of Oscar nominees in dataset\n",
      "data = movie_data[(movie_data.Oscar == 1)]\n",
      "print len(data)"
     ],
     "language": "python",
     "metadata": {},
     "outputs": [
      {
       "output_type": "stream",
       "stream": "stdout",
       "text": [
        "105\n"
       ]
      }
     ],
     "prompt_number": 15
    },
    {
     "cell_type": "code",
     "collapsed": false,
     "input": [
      "##Dropping rows without complete entries\n",
      "clean_movie_data = movie_data.dropna()\n",
      "len(clean_movie_data)"
     ],
     "language": "python",
     "metadata": {},
     "outputs": [
      {
       "metadata": {},
       "output_type": "pyout",
       "prompt_number": 16,
       "text": [
        "2321"
       ]
      }
     ],
     "prompt_number": 16
    },
    {
     "cell_type": "code",
     "collapsed": false,
     "input": [
      "clean_data = clean_movie_data[(clean_movie_data.Oscar == 1)]\n",
      "len(clean_data)"
     ],
     "language": "python",
     "metadata": {},
     "outputs": [
      {
       "metadata": {},
       "output_type": "pyout",
       "prompt_number": 17,
       "text": [
        "91"
       ]
      }
     ],
     "prompt_number": 17
    },
    {
     "cell_type": "markdown",
     "metadata": {},
     "source": [
      "####Initial Exploration of Distributors:"
     ]
    },
    {
     "cell_type": "code",
     "collapsed": false,
     "input": [
      "groups_by_dist = clean_movie_data.groupby('Distribution_Co')\n",
      "count_by_dist = groups_by_dist['Title'].count()\n",
      "count_by_dist.sort('Title', inplace = True, ascending = False)\n",
      "count_by_dist.head(20)"
     ],
     "language": "python",
     "metadata": {},
     "outputs": [
      {
       "metadata": {},
       "output_type": "pyout",
       "prompt_number": 18,
       "text": [
        "Distribution_Co\n",
        "Warner Bros.              245\n",
        "Universal                 221\n",
        "Fox                       206\n",
        "Sony / Columbia           185\n",
        "Buena Vista               176\n",
        "Paramount                 166\n",
        "New Line                   75\n",
        "Miramax                    75\n",
        "Sony / Screen Gems         61\n",
        "Fox Searchlight            58\n",
        "Lionsgate                  55\n",
        "MGM                        53\n",
        "Sony Classics              49\n",
        "DreamWorks                 49\n",
        "Focus Features             39\n",
        "Paramount (DreamWorks)     31\n",
        "Lions Gate                 29\n",
        "Sony (Revolution)          28\n",
        "Relativity                 26\n",
        "Summit Entertainment       25\n",
        "Name: Title, dtype: int64"
       ]
      }
     ],
     "prompt_number": 18
    },
    {
     "cell_type": "code",
     "collapsed": false,
     "input": [
      "##Focused on list of distributors with the most Best Picture nominees - all others will be tagged as \"other\"\n",
      "clean_movie_data.loc[~clean_movie_data['Distribution_Co'].isin(['Warner Bros.', 'Fox Searchlight', 'Paramount', 'Miramax', 'Focus Features', 'Weinstein Company', 'Universal', 'Buena Vista']), 'Distribution_Co']='Other'"
     ],
     "language": "python",
     "metadata": {},
     "outputs": [],
     "prompt_number": 20
    },
    {
     "cell_type": "code",
     "collapsed": false,
     "input": [
      "clean_movie_data.describe()"
     ],
     "language": "python",
     "metadata": {},
     "outputs": [
      {
       "html": [
        "<div style=\"max-height:1000px;max-width:1500px;overflow:auto;\">\n",
        "<table border=\"1\" class=\"dataframe\">\n",
        "  <thead>\n",
        "    <tr style=\"text-align: right;\">\n",
        "      <th></th>\n",
        "      <th>Domestic_Total_Gross</th>\n",
        "      <th>Oscar</th>\n",
        "    </tr>\n",
        "  </thead>\n",
        "  <tbody>\n",
        "    <tr>\n",
        "      <th>count</th>\n",
        "      <td> 2.321000e+03</td>\n",
        "      <td> 2321.000000</td>\n",
        "    </tr>\n",
        "    <tr>\n",
        "      <th>mean</th>\n",
        "      <td> 6.962893e+07</td>\n",
        "      <td>    0.039207</td>\n",
        "    </tr>\n",
        "    <tr>\n",
        "      <th>std</th>\n",
        "      <td> 8.514655e+07</td>\n",
        "      <td>    0.194130</td>\n",
        "    </tr>\n",
        "    <tr>\n",
        "      <th>min</th>\n",
        "      <td> 4.000000e+02</td>\n",
        "      <td>    0.000000</td>\n",
        "    </tr>\n",
        "    <tr>\n",
        "      <th>25%</th>\n",
        "      <td> 1.514100e+07</td>\n",
        "      <td>    0.000000</td>\n",
        "    </tr>\n",
        "    <tr>\n",
        "      <th>50%</th>\n",
        "      <td> 4.206440e+07</td>\n",
        "      <td>    0.000000</td>\n",
        "    </tr>\n",
        "    <tr>\n",
        "      <th>75%</th>\n",
        "      <td> 9.136770e+07</td>\n",
        "      <td>    0.000000</td>\n",
        "    </tr>\n",
        "    <tr>\n",
        "      <th>max</th>\n",
        "      <td> 7.040542e+08</td>\n",
        "      <td>    1.000000</td>\n",
        "    </tr>\n",
        "  </tbody>\n",
        "</table>\n",
        "</div>"
       ],
       "metadata": {},
       "output_type": "pyout",
       "prompt_number": 21,
       "text": [
        "       Domestic_Total_Gross        Oscar\n",
        "count          2.321000e+03  2321.000000\n",
        "mean           6.962893e+07     0.039207\n",
        "std            8.514655e+07     0.194130\n",
        "min            4.000000e+02     0.000000\n",
        "25%            1.514100e+07     0.000000\n",
        "50%            4.206440e+07     0.000000\n",
        "75%            9.136770e+07     0.000000\n",
        "max            7.040542e+08     1.000000"
       ]
      }
     ],
     "prompt_number": 21
    },
    {
     "cell_type": "markdown",
     "metadata": {},
     "source": [
      "####Looking at average domestic gross by distributor in smaller distribution set"
     ]
    },
    {
     "cell_type": "code",
     "collapsed": false,
     "input": [
      "%matplotlib inline\n",
      "oscar_group_by_dist = clean_movie_data.groupby('Distribution_Co')\n",
      "oscar_group_hist = oscar_group_by_dist['Domestic_Total_Gross'].mean()\n",
      "#oscar_group_hist.sort(inplace = True, ascending = False)\n",
      "plt.figure(figsize = (10,5))\n",
      "oscar_group_hist.plot(kind = \"bar\")\n",
      "\n",
      "plt.title('Average Domestic Gross by Distributor')\n",
      "plt.xlabel('Distributor')\n",
      "plt.ylabel('Average Domestic Gross / Movie')"
     ],
     "language": "python",
     "metadata": {},
     "outputs": [
      {
       "metadata": {},
       "output_type": "pyout",
       "prompt_number": 22,
       "text": [
        "<matplotlib.text.Text at 0x111719190>"
       ]
      },
      {
       "metadata": {},
       "output_type": "display_data",
       "png": "[encoded data removed]",
       "text": [
        "<matplotlib.figure.Figure at 0x1118d7d50>"
       ]
      }
     ],
     "prompt_number": 22
    },
    {
     "cell_type": "code",
     "collapsed": false,
     "input": [
      "%matplotlib inline\n",
      "oscar_group_by_dist = clean_movie_data.groupby('Distribution_Co')\n",
      "oscar_group_hist = oscar_group_by_dist['Domestic_Total_Gross'].median()\n",
      "# print oscar_group_hist\n",
      "#oscar_group_hist.sort(inplace = True, ascending = False)\n",
      "plt.figure(figsize=(10,5))\n",
      "oscar_group_hist.plot(kind = \"bar\")\n",
      "\n",
      "plt.title('Median Domestic Gross by Distributor')\n",
      "plt.xlabel('Distributor')\n",
      "plt.ylabel('Average Domestic Gross / Movie')"
     ],
     "language": "python",
     "metadata": {},
     "outputs": [
      {
       "metadata": {},
       "output_type": "pyout",
       "prompt_number": 23,
       "text": [
        "<matplotlib.text.Text at 0x111a2c750>"
       ]
      },
      {
       "metadata": {},
       "output_type": "display_data",
       "png": "[encoded data removed]",
       "text": [
        "<matplotlib.figure.Figure at 0x1118d7e50>"
       ]
      }
     ],
     "prompt_number": 23
    },
    {
     "cell_type": "markdown",
     "metadata": {},
     "source": [
      "####Looking at the percentage of films to earn Oscar nominations per distributor in the dataset"
     ]
    },
    {
     "cell_type": "code",
     "collapsed": false,
     "input": [
      "oscar_group_hist = oscar_group_by_dist['Oscar'].mean()\n",
      "#print oscar_group_hist\n",
      "#oscar_sort_by_percentage = oscar_group_hist.sort(inplace = True, ascending = False)\n",
      "#print oscar_sort_by_percentage\n",
      "plt.figure(figsize=(10,5))\n",
      "oscar_group_hist.plot(kind = \"bar\")\n",
      "\n",
      "plt.title('% of Movies to Earn Oscar Best Movie Nominations')\n",
      "plt.xlabel('Distributor')\n",
      "plt.ylabel('% of Oscar Nominees / Movie Released')"
     ],
     "language": "python",
     "metadata": {},
     "outputs": [
      {
       "metadata": {},
       "output_type": "pyout",
       "prompt_number": 25,
       "text": [
        "<matplotlib.text.Text at 0x111dea190>"
       ]
      },
      {
       "metadata": {},
       "output_type": "display_data",
       "png": "[encoded data removed]",
       "text": [
        "<matplotlib.figure.Figure at 0x111d70610>"
       ]
      }
     ],
     "prompt_number": 25
    },
    {
     "cell_type": "markdown",
     "metadata": {},
     "source": [
      "Weinstein has above and beyond the rest of the distributors in terms of % of Oscar nominations"
     ]
    },
    {
     "cell_type": "markdown",
     "metadata": {},
     "source": [
      "####Looking at the average budget per distributor to see if there are discernable patterns in the types of film (by budget) that distributors work on"
     ]
    },
    {
     "cell_type": "code",
     "collapsed": false,
     "input": [
      "oscar_group_by_dist = final_data_df.groupby('Distribution_Co')\n",
      "oscar_group_hist = oscar_group_by_dist['ADJ_Budget'].mean()\n",
      "# print oscar_group_hist\n",
      "#oscar_group_hist.sort(inplace = True, ascending = False)\n",
      "plt.figure(figsize=(10,5))\n",
      "oscar_group_hist.plot(kind = \"bar\")\n",
      "\n",
      "plt.title('Average Budget by Distributor')\n",
      "plt.xlabel('Distributor')\n",
      "plt.ylabel('Average Budget / Movie')"
     ],
     "language": "python",
     "metadata": {},
     "outputs": [
      {
       "metadata": {},
       "output_type": "pyout",
       "prompt_number": 52,
       "text": [
        "<matplotlib.text.Text at 0x112a02350>"
       ]
      },
      {
       "metadata": {},
       "output_type": "display_data",
       "png": "[encoded data removed]",
       "text": [
        "<matplotlib.figure.Figure at 0x1119bb510>"
       ]
      }
     ],
     "prompt_number": 52
    },
    {
     "cell_type": "markdown",
     "metadata": {},
     "source": [
      "Buena Vista distributes more big budget films, while companies like Fox Searchlight and Focus Features are more likely to produce smaller budget movies"
     ]
    },
    {
     "cell_type": "markdown",
     "metadata": {},
     "source": [
      "####Adding Release Year and Release Month"
     ]
    },
    {
     "cell_type": "code",
     "collapsed": false,
     "input": [
      "clean_movie_data['ReleaseYear']=clean_movie_data['Release'].apply(lambda x: x.year)"
     ],
     "language": "python",
     "metadata": {},
     "outputs": [],
     "prompt_number": 27
    },
    {
     "cell_type": "code",
     "collapsed": false,
     "input": [
      "clean_movie_data['ReleaseMonth']=clean_movie_data['Release'].apply(lambda x: x.month)"
     ],
     "language": "python",
     "metadata": {},
     "outputs": [],
     "prompt_number": 32
    },
    {
     "cell_type": "markdown",
     "metadata": {},
     "source": [
      "####Assigning dummies for Distribution Company and Movie Rating to be able to use them as categorical variables"
     ]
    },
    {
     "cell_type": "code",
     "collapsed": false,
     "input": [
      "clean_movie_data = pd.concat([clean_movie_data, pd.get_dummies(clean_movie_data['Distribution_Co'])], axis = 1)"
     ],
     "language": "python",
     "metadata": {},
     "outputs": [],
     "prompt_number": 28
    },
    {
     "cell_type": "code",
     "collapsed": false,
     "input": [
      "clean_movie_data = pd.concat([clean_movie_data, pd.get_dummies(clean_movie_data['Rating'])], axis = 1)"
     ],
     "language": "python",
     "metadata": {},
     "outputs": [],
     "prompt_number": 29
    },
    {
     "cell_type": "code",
     "collapsed": false,
     "input": [
      "clean_data = clean_movie_data[(clean_movie_data.Oscar == 1)]\n",
      "len(clean_data)"
     ],
     "language": "python",
     "metadata": {},
     "outputs": [
      {
       "metadata": {},
       "output_type": "pyout",
       "prompt_number": 30,
       "text": [
        "91"
       ]
      }
     ],
     "prompt_number": 30
    },
    {
     "cell_type": "code",
     "collapsed": false,
     "input": [
      "clean_movie_data.columns"
     ],
     "language": "python",
     "metadata": {},
     "outputs": [
      {
       "metadata": {},
       "output_type": "pyout",
       "prompt_number": 31,
       "text": [
        "Index([u'Title', u'Domestic_Total_Gross', u'Distribution_Co', u'Rating', u'Genre', u'Budget', u'Release', u'Oscar', u'ReleaseYear', u'Buena Vista', u'Focus Features', u'Fox Searchlight', u'Miramax', u'Other', u'Paramount', u'Universal', u'Warner Bros.', u'Weinstein Company', u'G', u'NC-17', u'PG', u'PG-13', u'R', u'Unrated'], dtype='object')"
       ]
      }
     ],
     "prompt_number": 31
    },
    {
     "cell_type": "markdown",
     "metadata": {},
     "source": [
      "####Adding \"Ones\" column to be able to use StatsModels"
     ]
    },
    {
     "cell_type": "code",
     "collapsed": false,
     "input": [
      "clean_movie_data['Ones'] = 1"
     ],
     "language": "python",
     "metadata": {},
     "outputs": [],
     "prompt_number": 124
    },
    {
     "cell_type": "code",
     "collapsed": false,
     "input": [
      "##removes commas from Budget column\n",
      "clean_movie_data['Budget'] = clean_movie_data['Budget'].astype(str)"
     ],
     "language": "python",
     "metadata": {},
     "outputs": [],
     "prompt_number": 136
    },
    {
     "cell_type": "code",
     "collapsed": false,
     "input": [
      "clean_movie_data['Budget'] = clean_movie_data['Budget'].replace(',', '')"
     ],
     "language": "python",
     "metadata": {},
     "outputs": [],
     "prompt_number": 137
    },
    {
     "cell_type": "code",
     "collapsed": false,
     "input": [
      "clean_data = clean_movie_data[(clean_movie_data.Oscar == 1)]\n",
      "len(clean_data)"
     ],
     "language": "python",
     "metadata": {},
     "outputs": [
      {
       "metadata": {},
       "output_type": "pyout",
       "prompt_number": 150,
       "text": [
        "91"
       ]
      }
     ],
     "prompt_number": 150
    },
    {
     "cell_type": "markdown",
     "metadata": {},
     "source": [
      "####Had to export data to clean...\n",
      "Unfortunately, I discovered with 24 hours to go before the presentation, that there was something wrong with the budget column in my dataset and in cleaning with python I was removing all of my Oscar nominated films. Because the dataset was so small, I exported it to a csv, cleaned up the small things that needed to be fixed (but were hard to parse in python) and re-uploaded.\n",
      "\n",
      "Not ideal, but sometimes you have to optimize for time."
     ]
    },
    {
     "cell_type": "code",
     "collapsed": false,
     "input": [
      "final_data_df = pd.read_csv(\"clean_movie_data.csv\")"
     ],
     "language": "python",
     "metadata": {},
     "outputs": [],
     "prompt_number": 44
    },
    {
     "cell_type": "code",
     "collapsed": false,
     "input": [
      "final_data_df.describe()"
     ],
     "language": "python",
     "metadata": {},
     "outputs": [
      {
       "html": [
        "<div style=\"max-height:1000px;max-width:1500px;overflow:auto;\">\n",
        "<table border=\"1\" class=\"dataframe\">\n",
        "  <thead>\n",
        "    <tr style=\"text-align: right;\">\n",
        "      <th></th>\n",
        "      <th>Unnamed: 0</th>\n",
        "      <th>Domestic_Total_Gross</th>\n",
        "      <th>ADJ_Budget</th>\n",
        "      <th>Oscar</th>\n",
        "      <th>ReleaseYear</th>\n",
        "      <th>Buena Vista</th>\n",
        "      <th>Focus Features</th>\n",
        "      <th>Fox Searchlight</th>\n",
        "      <th>Miramax</th>\n",
        "      <th>Other</th>\n",
        "      <th>...</th>\n",
        "      <th>Universal</th>\n",
        "      <th>Warner Bros.</th>\n",
        "      <th>Weinstein Company</th>\n",
        "      <th>G</th>\n",
        "      <th>NC-17</th>\n",
        "      <th>PG</th>\n",
        "      <th>PG-13</th>\n",
        "      <th>R</th>\n",
        "      <th>Unrated</th>\n",
        "      <th>Ones</th>\n",
        "    </tr>\n",
        "  </thead>\n",
        "  <tbody>\n",
        "    <tr>\n",
        "      <th>count</th>\n",
        "      <td> 2321.000000</td>\n",
        "      <td> 2.321000e+03</td>\n",
        "      <td> 2321.000000</td>\n",
        "      <td> 2321.000000</td>\n",
        "      <td> 2321.000000</td>\n",
        "      <td> 2321.000000</td>\n",
        "      <td> 2321.000000</td>\n",
        "      <td> 2321.000000</td>\n",
        "      <td> 2321.000000</td>\n",
        "      <td> 2321.000000</td>\n",
        "      <td>...</td>\n",
        "      <td> 2321.000000</td>\n",
        "      <td> 2321.000000</td>\n",
        "      <td> 2321.000000</td>\n",
        "      <td> 2321.000000</td>\n",
        "      <td> 2321.000000</td>\n",
        "      <td> 2321.000000</td>\n",
        "      <td> 2321.000000</td>\n",
        "      <td> 2321.000000</td>\n",
        "      <td> 2321.000000</td>\n",
        "      <td> 2321</td>\n",
        "    </tr>\n",
        "    <tr>\n",
        "      <th>mean</th>\n",
        "      <td> 4555.530375</td>\n",
        "      <td> 6.955320e+07</td>\n",
        "      <td>   45.458195</td>\n",
        "      <td>    0.039207</td>\n",
        "      <td> 2006.305903</td>\n",
        "      <td>    0.075829</td>\n",
        "      <td>    0.016803</td>\n",
        "      <td>    0.024989</td>\n",
        "      <td>    0.032314</td>\n",
        "      <td>    0.568720</td>\n",
        "      <td>...</td>\n",
        "      <td>    0.095218</td>\n",
        "      <td>    0.105558</td>\n",
        "      <td>    0.009048</td>\n",
        "      <td>    0.026282</td>\n",
        "      <td>    0.002154</td>\n",
        "      <td>    0.148212</td>\n",
        "      <td>    0.398104</td>\n",
        "      <td>    0.402844</td>\n",
        "      <td>    0.022404</td>\n",
        "      <td>    1</td>\n",
        "    </tr>\n",
        "    <tr>\n",
        "      <th>std</th>\n",
        "      <td> 2843.192505</td>\n",
        "      <td> 8.500836e+07</td>\n",
        "      <td>   45.203308</td>\n",
        "      <td>    0.194130</td>\n",
        "      <td>    4.594544</td>\n",
        "      <td>    0.264782</td>\n",
        "      <td>    0.128561</td>\n",
        "      <td>    0.156126</td>\n",
        "      <td>    0.176870</td>\n",
        "      <td>    0.495362</td>\n",
        "      <td>...</td>\n",
        "      <td>    0.293578</td>\n",
        "      <td>    0.307337</td>\n",
        "      <td>    0.094709</td>\n",
        "      <td>    0.160006</td>\n",
        "      <td>    0.046374</td>\n",
        "      <td>    0.355387</td>\n",
        "      <td>    0.489613</td>\n",
        "      <td>    0.490576</td>\n",
        "      <td>    0.148026</td>\n",
        "      <td>    0</td>\n",
        "    </tr>\n",
        "    <tr>\n",
        "      <th>min</th>\n",
        "      <td>    0.000000</td>\n",
        "      <td> 4.000000e+02</td>\n",
        "      <td>    0.000000</td>\n",
        "      <td>    0.000000</td>\n",
        "      <td> 1999.000000</td>\n",
        "      <td>    0.000000</td>\n",
        "      <td>    0.000000</td>\n",
        "      <td>    0.000000</td>\n",
        "      <td>    0.000000</td>\n",
        "      <td>    0.000000</td>\n",
        "      <td>...</td>\n",
        "      <td>    0.000000</td>\n",
        "      <td>    0.000000</td>\n",
        "      <td>    0.000000</td>\n",
        "      <td>    0.000000</td>\n",
        "      <td>    0.000000</td>\n",
        "      <td>    0.000000</td>\n",
        "      <td>    0.000000</td>\n",
        "      <td>    0.000000</td>\n",
        "      <td>    0.000000</td>\n",
        "      <td>    1</td>\n",
        "    </tr>\n",
        "    <tr>\n",
        "      <th>25%</th>\n",
        "      <td> 2051.000000</td>\n",
        "      <td> 1.514100e+07</td>\n",
        "      <td>   14.000000</td>\n",
        "      <td>    0.000000</td>\n",
        "      <td> 2002.000000</td>\n",
        "      <td>    0.000000</td>\n",
        "      <td>    0.000000</td>\n",
        "      <td>    0.000000</td>\n",
        "      <td>    0.000000</td>\n",
        "      <td>    0.000000</td>\n",
        "      <td>...</td>\n",
        "      <td>    0.000000</td>\n",
        "      <td>    0.000000</td>\n",
        "      <td>    0.000000</td>\n",
        "      <td>    0.000000</td>\n",
        "      <td>    0.000000</td>\n",
        "      <td>    0.000000</td>\n",
        "      <td>    0.000000</td>\n",
        "      <td>    0.000000</td>\n",
        "      <td>    0.000000</td>\n",
        "      <td>    1</td>\n",
        "    </tr>\n",
        "    <tr>\n",
        "      <th>50%</th>\n",
        "      <td> 4466.000000</td>\n",
        "      <td> 4.198090e+07</td>\n",
        "      <td>   30.000000</td>\n",
        "      <td>    0.000000</td>\n",
        "      <td> 2006.000000</td>\n",
        "      <td>    0.000000</td>\n",
        "      <td>    0.000000</td>\n",
        "      <td>    0.000000</td>\n",
        "      <td>    0.000000</td>\n",
        "      <td>    1.000000</td>\n",
        "      <td>...</td>\n",
        "      <td>    0.000000</td>\n",
        "      <td>    0.000000</td>\n",
        "      <td>    0.000000</td>\n",
        "      <td>    0.000000</td>\n",
        "      <td>    0.000000</td>\n",
        "      <td>    0.000000</td>\n",
        "      <td>    0.000000</td>\n",
        "      <td>    0.000000</td>\n",
        "      <td>    0.000000</td>\n",
        "      <td>    1</td>\n",
        "    </tr>\n",
        "    <tr>\n",
        "      <th>75%</th>\n",
        "      <td> 7055.000000</td>\n",
        "      <td> 9.136770e+07</td>\n",
        "      <td>   61.000000</td>\n",
        "      <td>    0.000000</td>\n",
        "      <td> 2010.000000</td>\n",
        "      <td>    0.000000</td>\n",
        "      <td>    0.000000</td>\n",
        "      <td>    0.000000</td>\n",
        "      <td>    0.000000</td>\n",
        "      <td>    1.000000</td>\n",
        "      <td>...</td>\n",
        "      <td>    0.000000</td>\n",
        "      <td>    0.000000</td>\n",
        "      <td>    0.000000</td>\n",
        "      <td>    0.000000</td>\n",
        "      <td>    0.000000</td>\n",
        "      <td>    0.000000</td>\n",
        "      <td>    1.000000</td>\n",
        "      <td>    1.000000</td>\n",
        "      <td>    0.000000</td>\n",
        "      <td>    1</td>\n",
        "    </tr>\n",
        "    <tr>\n",
        "      <th>max</th>\n",
        "      <td> 9477.000000</td>\n",
        "      <td> 7.040542e+08</td>\n",
        "      <td>  300.000000</td>\n",
        "      <td>    1.000000</td>\n",
        "      <td> 2015.000000</td>\n",
        "      <td>    1.000000</td>\n",
        "      <td>    1.000000</td>\n",
        "      <td>    1.000000</td>\n",
        "      <td>    1.000000</td>\n",
        "      <td>    1.000000</td>\n",
        "      <td>...</td>\n",
        "      <td>    1.000000</td>\n",
        "      <td>    1.000000</td>\n",
        "      <td>    1.000000</td>\n",
        "      <td>    1.000000</td>\n",
        "      <td>    1.000000</td>\n",
        "      <td>    1.000000</td>\n",
        "      <td>    1.000000</td>\n",
        "      <td>    1.000000</td>\n",
        "      <td>    1.000000</td>\n",
        "      <td>    1</td>\n",
        "    </tr>\n",
        "  </tbody>\n",
        "</table>\n",
        "<p>8 rows \u00d7 21 columns</p>\n",
        "</div>"
       ],
       "metadata": {},
       "output_type": "pyout",
       "prompt_number": 45,
       "text": [
        "        Unnamed: 0  Domestic_Total_Gross   ADJ_Budget        Oscar  \\\n",
        "count  2321.000000          2.321000e+03  2321.000000  2321.000000   \n",
        "mean   4555.530375          6.955320e+07    45.458195     0.039207   \n",
        "std    2843.192505          8.500836e+07    45.203308     0.194130   \n",
        "min       0.000000          4.000000e+02     0.000000     0.000000   \n",
        "25%    2051.000000          1.514100e+07    14.000000     0.000000   \n",
        "50%    4466.000000          4.198090e+07    30.000000     0.000000   \n",
        "75%    7055.000000          9.136770e+07    61.000000     0.000000   \n",
        "max    9477.000000          7.040542e+08   300.000000     1.000000   \n",
        "\n",
        "       ReleaseYear  Buena Vista  Focus Features  Fox Searchlight      Miramax  \\\n",
        "count  2321.000000  2321.000000     2321.000000      2321.000000  2321.000000   \n",
        "mean   2006.305903     0.075829        0.016803         0.024989     0.032314   \n",
        "std       4.594544     0.264782        0.128561         0.156126     0.176870   \n",
        "min    1999.000000     0.000000        0.000000         0.000000     0.000000   \n",
        "25%    2002.000000     0.000000        0.000000         0.000000     0.000000   \n",
        "50%    2006.000000     0.000000        0.000000         0.000000     0.000000   \n",
        "75%    2010.000000     0.000000        0.000000         0.000000     0.000000   \n",
        "max    2015.000000     1.000000        1.000000         1.000000     1.000000   \n",
        "\n",
        "             Other  ...     Universal  Warner Bros.  Weinstein Company  \\\n",
        "count  2321.000000  ...   2321.000000   2321.000000        2321.000000   \n",
        "mean      0.568720  ...      0.095218      0.105558           0.009048   \n",
        "std       0.495362  ...      0.293578      0.307337           0.094709   \n",
        "min       0.000000  ...      0.000000      0.000000           0.000000   \n",
        "25%       0.000000  ...      0.000000      0.000000           0.000000   \n",
        "50%       1.000000  ...      0.000000      0.000000           0.000000   \n",
        "75%       1.000000  ...      0.000000      0.000000           0.000000   \n",
        "max       1.000000  ...      1.000000      1.000000           1.000000   \n",
        "\n",
        "                 G        NC-17           PG        PG-13            R  \\\n",
        "count  2321.000000  2321.000000  2321.000000  2321.000000  2321.000000   \n",
        "mean      0.026282     0.002154     0.148212     0.398104     0.402844   \n",
        "std       0.160006     0.046374     0.355387     0.489613     0.490576   \n",
        "min       0.000000     0.000000     0.000000     0.000000     0.000000   \n",
        "25%       0.000000     0.000000     0.000000     0.000000     0.000000   \n",
        "50%       0.000000     0.000000     0.000000     0.000000     0.000000   \n",
        "75%       0.000000     0.000000     0.000000     1.000000     1.000000   \n",
        "max       1.000000     1.000000     1.000000     1.000000     1.000000   \n",
        "\n",
        "           Unrated  Ones  \n",
        "count  2321.000000  2321  \n",
        "mean      0.022404     1  \n",
        "std       0.148026     0  \n",
        "min       0.000000     1  \n",
        "25%       0.000000     1  \n",
        "50%       0.000000     1  \n",
        "75%       0.000000     1  \n",
        "max       1.000000     1  \n",
        "\n",
        "[8 rows x 21 columns]"
       ]
      }
     ],
     "prompt_number": 45
    },
    {
     "cell_type": "markdown",
     "metadata": {},
     "source": [
      "####Confirming that the Oscar nominated films were not dropped - PHEWF!"
     ]
    },
    {
     "cell_type": "code",
     "collapsed": false,
     "input": [
      "test = final_data_df[(final_data_df.Oscar == 1)]\n",
      "len(test)"
     ],
     "language": "python",
     "metadata": {},
     "outputs": [
      {
       "metadata": {},
       "output_type": "pyout",
       "prompt_number": 46,
       "text": [
        "91"
       ]
      }
     ],
     "prompt_number": 46
    },
    {
     "cell_type": "markdown",
     "metadata": {},
     "source": [
      "####Looking at Weinstein distributed movies"
     ]
    },
    {
     "cell_type": "code",
     "collapsed": false,
     "input": [
      "weinstein = final_data_df[(final_data_df['Weinstein Company']==1)]\n",
      "pp.pprint(weinstein)"
     ],
     "language": "python",
     "metadata": {},
     "outputs": [
      {
       "output_type": "stream",
       "stream": "stdout",
       "text": [
        "      Unnamed: 0                          Title  Domestic_Total_Gross  \\\n",
        "1           1154                 Blue Valentine              10247800   \n",
        "314            1               Django Unchained             169711100   \n",
        "473         5913                           Nine              21002500   \n",
        "550            3           Inglourious Basterds             133920600   \n",
        "963         2637       Escape From Planet Earth              59415700   \n",
        "1175           2                     The Reader              39528400   \n",
        "1223        1410        Lee Daniels' The Butler             122932000   \n",
        "1245        3848  Hoodwinked Too! Hood vs. Evil              10447600   \n",
        "1408        3279                      The Giver              46318100   \n",
        "1460        4012   I Don't Know How She Does It              10100400   \n",
        "1473        9446     Zack and Miri Make a Porno              36365000   \n",
        "1494        2174                       Derailed              46635400   \n",
        "1520           4        Silver Linings Playbook             137749900   \n",
        "1757           3              The King's Speech             142736000   \n",
        "1758           6                     The Artist              46823700   \n",
        "1768        1764            Killing Them Softly              15492700   \n",
        "1770        1809                The Company Men               4689900   \n",
        "1882        5369                    The Matador              15959700   \n",
        "1884           5                      Philomena              38583200   \n",
        "2112        7689                   A Single Man               9638000   \n",
        "2182        6215              Our Idiot Brother              25941300   \n",
        "\n",
        "        Distribution_Co Rating             Genre     Budget  ADJ_Budget  \\\n",
        "1     Weinstein Company      R             Drama  1,000,000         1.0   \n",
        "314   Weinstein Company      R           Western        100       100.0   \n",
        "473   Weinstein Company  PG-13             Drama         80        80.0   \n",
        "550   Weinstein Company      R               War         70        70.0   \n",
        "963   Weinstein Company     PG         Animation         40        40.0   \n",
        "1175  Weinstein Company      R      Period Drama         32        32.0   \n",
        "1223  Weinstein Company  PG-13             Drama         30        30.0   \n",
        "1245  Weinstein Company     PG         Animation         30        30.0   \n",
        "1408  Weinstein Company  PG-13     Fantasy Drama         25        25.0   \n",
        "1460  Weinstein Company  PG-13            Comedy         24        24.0   \n",
        "1473  Weinstein Company      R            Comedy         24        24.0   \n",
        "1494  Weinstein Company      R          Thriller         22        22.0   \n",
        "1520  Weinstein Company      R            Comedy         21        21.0   \n",
        "1757  Weinstein Company      R  Historical Drama         15        15.0   \n",
        "1758  Weinstein Company  PG-13    Comedy / Drama         15        15.0   \n",
        "1768  Weinstein Company      R    Crime Thriller         15        15.0   \n",
        "1770  Weinstein Company      R             Drama         15        15.0   \n",
        "1882  Weinstein Company      R   Comedy Thriller       12.5        12.5   \n",
        "1884  Weinstein Company  PG-13             Drama         12        12.0   \n",
        "2112  Weinstein Company      R             Drama          7         7.0   \n",
        "2182  Weinstein Company      R            Comedy          5         5.0   \n",
        "\n",
        "                 Release  Oscar      ...       Warner Bros.  \\\n",
        "1     12/29/2010 0:00:00      0      ...                  0   \n",
        "314   12/25/2012 0:00:00      1      ...                  0   \n",
        "473   12/18/2009 0:00:00      0      ...                  0   \n",
        "550    8/21/2009 0:00:00      1      ...                  0   \n",
        "963    2/15/2013 0:00:00      0      ...                  0   \n",
        "1175  12/10/2008 0:00:00      1      ...                  0   \n",
        "1223   8/16/2013 0:00:00      0      ...                  0   \n",
        "1245   4/29/2011 0:00:00      0      ...                  0   \n",
        "1408   8/15/2014 0:00:00      0      ...                  0   \n",
        "1460   9/16/2011 0:00:00      0      ...                  0   \n",
        "1473  10/31/2008 0:00:00      0      ...                  0   \n",
        "1494  11/11/2005 0:00:00      0      ...                  0   \n",
        "1520  11/16/2012 0:00:00      1      ...                  0   \n",
        "1757  11/26/2010 0:00:00      1      ...                  0   \n",
        "1758  11/25/2011 0:00:00      1      ...                  0   \n",
        "1768  11/30/2012 0:00:00      0      ...                  0   \n",
        "1770   1/21/2011 0:00:00      0      ...                  0   \n",
        "1882  12/30/2005 0:00:00      0      ...                  0   \n",
        "1884  11/22/2013 0:00:00      1      ...                  0   \n",
        "2112  12/11/2009 0:00:00      0      ...                  0   \n",
        "2182   8/26/2011 0:00:00      0      ...                  0   \n",
        "\n",
        "      Weinstein Company  G  NC-17  PG  PG-13  R  Unrated  Ones  ADJ_Budget.1  \n",
        "1                     1  0      0   0      0  1        0     1             0  \n",
        "314                   1  0      0   0      0  1        0     1             0  \n",
        "473                   1  0      0   0      1  0        0     1             0  \n",
        "550                   1  0      0   0      0  1        0     1             0  \n",
        "963                   1  0      0   1      0  0        0     1             0  \n",
        "1175                  1  0      0   0      0  1        0     1             0  \n",
        "1223                  1  0      0   0      1  0        0     1             0  \n",
        "1245                  1  0      0   1      0  0        0     1             0  \n",
        "1408                  1  0      0   0      1  0        0     1             5  \n",
        "1460                  1  0      0   0      1  0        0     1             4  \n",
        "1473                  1  0      0   0      0  1        0     1             4  \n",
        "1494                  1  0      0   0      0  1        0     1             2  \n",
        "1520                  1  0      0   0      0  1        0     1             0  \n",
        "1757                  1  0      0   0      0  1        0     1             0  \n",
        "1758                  1  0      0   0      1  0        0     1             0  \n",
        "1768                  1  0      0   0      0  1        0     1             5  \n",
        "1770                  1  0      0   0      0  1        0     1             5  \n",
        "1882                  1  0      0   0      0  1        0     1             5  \n",
        "1884                  1  0      0   0      1  0        0     1             0  \n",
        "2112                  1  0      0   0      0  1        0     1             7  \n",
        "2182                  1  0      0   0      0  1        0     1             5  \n",
        "\n",
        "[21 rows x 28 columns]\n"
       ]
      }
     ],
     "prompt_number": 39
    },
    {
     "cell_type": "markdown",
     "metadata": {},
     "source": [
      "####Looking at Average Number of Nominees by Year by Distributor to analyze changes in patterns over time"
     ]
    },
    {
     "cell_type": "code",
     "collapsed": false,
     "input": [
      "fig = plt.figure(figsize=(10,7))\n",
      "axes = plt.gca() # get current axes\n",
      "# print 'axis', axis\n",
      "axes.set_xlim([1999,2014])\n",
      "\n",
      "\n",
      "plt.title('Distributor Avg. Nominees by Year')\n",
      "\n",
      "distributor_by_year = final_data_df.groupby(['Distribution_Co'])\n",
      "labels = []\n",
      "#colors = ['m','r','y','g','b','k','c']\n",
      "colors = ['#3c967c','#c90020','#b0e0e6','#ffc356','#008080','#311bf8','#EE6677','#2c8f04','#f86820']\n",
      "for i, (distributor, group) in enumerate(distributor_by_year):\n",
      "   labels.append(distributor)\n",
      "   group.groupby('ReleaseYear').mean().plot(y='Oscar', ax=axes, color=colors[i])\n",
      "axes.legend(labels, loc = 2)\n",
      "#plt.legend(loc = 2)\n",
      "plt.xlabel('Release Year')\n",
      "plt.ylabel('% of Oscar Nominees')"
     ],
     "language": "python",
     "metadata": {},
     "outputs": [
      {
       "metadata": {},
       "output_type": "pyout",
       "prompt_number": 40,
       "text": [
        "<matplotlib.text.Text at 0x11256ad50>"
       ]
      },
      {
       "metadata": {},
       "output_type": "display_data",
       "png": "[encoded data removed]",
       "text": [
        "<matplotlib.figure.Figure at 0x11256e8d0>"
       ]
      }
     ],
     "prompt_number": 40
    },
    {
     "cell_type": "code",
     "collapsed": false,
     "input": [
      "final_data_df.columns"
     ],
     "language": "python",
     "metadata": {},
     "outputs": [
      {
       "metadata": {},
       "output_type": "pyout",
       "prompt_number": 47,
       "text": [
        "Index([u'Unnamed: 0', u'Title', u'Domestic_Total_Gross', u'Distribution_Co', u'Rating', u'Genre', u'Budget', u'ADJ_Budget', u'Release', u'Oscar', u'ReleaseYear', u'Buena Vista', u'Focus Features', u'Fox Searchlight', u'Miramax', u'Other', u'Paramount', u'Universal', u'Warner Bros.', u'Weinstein Company', u'G', u'NC-17', u'PG', u'PG-13', u'R', u'Unrated', u'Ones'], dtype='object')"
       ]
      }
     ],
     "prompt_number": 47
    },
    {
     "cell_type": "markdown",
     "metadata": {},
     "source": [
      "###Look at using Logistic Regression to Predict Movie Nomination"
     ]
    },
    {
     "cell_type": "code",
     "collapsed": false,
     "input": [
      "X = final_data_df[['ADJ_Budget','Domestic_Total_Gross', 'R', 'PG-13',  'G', 'PG', 'Warner Bros.', 'Fox Searchlight',\\\n",
      "                      'Paramount', 'Miramax','Focus Features', 'Weinstein Company', 'Universal',\\\n",
      "                      'Buena Vista', 'Ones']]\n",
      "Y = final_data_df['Oscar']\n",
      "\n",
      "logmodel = Logit(Y, X).fit(method='nm', maxiter = 50)\n",
      "logmodel.summary()"
     ],
     "language": "python",
     "metadata": {},
     "outputs": [
      {
       "output_type": "stream",
       "stream": "stdout",
       "text": [
        "Warning: Maximum number of iterations has been exceeded.\n"
       ]
      },
      {
       "output_type": "stream",
       "stream": "stderr",
       "text": [
        "/usr/local/lib/python2.7/site-packages/statsmodels/base/model.py:466: ConvergenceWarning: Maximum Likelihood optimization failed to converge. Check mle_retvals\n",
        "  \"Check mle_retvals\", ConvergenceWarning)\n"
       ]
      },
      {
       "html": [
        "<table class=\"simpletable\">\n",
        "<caption>Logit Regression Results</caption>\n",
        "<tr>\n",
        "  <th>Dep. Variable:</th>       <td>Oscar</td>      <th>  No. Observations:  </th>  <td>  2321</td> \n",
        "</tr>\n",
        "<tr>\n",
        "  <th>Model:</th>               <td>Logit</td>      <th>  Df Residuals:      </th>  <td>  2306</td> \n",
        "</tr>\n",
        "<tr>\n",
        "  <th>Method:</th>               <td>MLE</td>       <th>  Df Model:          </th>  <td>    14</td> \n",
        "</tr>\n",
        "<tr>\n",
        "  <th>Date:</th>          <td>Sat, 28 Mar 2015</td> <th>  Pseudo R-squ.:     </th>  <td>-1.662</td> \n",
        "</tr>\n",
        "<tr>\n",
        "  <th>Time:</th>              <td>17:21:15</td>     <th>  Log-Likelihood:    </th> <td> -1021.9</td>\n",
        "</tr>\n",
        "<tr>\n",
        "  <th>converged:</th>           <td>False</td>      <th>  LL-Null:           </th> <td> -383.93</td>\n",
        "</tr>\n",
        "<tr>\n",
        "  <th> </th>                      <td> </td>        <th>  LLR p-value:       </th>  <td> 1.000</td> \n",
        "</tr>\n",
        "</table>\n",
        "<table class=\"simpletable\">\n",
        "<tr>\n",
        "            <td></td>              <th>coef</th>     <th>std err</th>      <th>z</th>      <th>P>|z|</th> <th>[95.0% Conf. Int.]</th> \n",
        "</tr>\n",
        "<tr>\n",
        "  <th>ADJ_Budget</th>           <td>-8.304e-07</td> <td>    0.002</td> <td>   -0.000</td> <td> 1.000</td> <td>   -0.005     0.005</td>\n",
        "</tr>\n",
        "<tr>\n",
        "  <th>Domestic_Total_Gross</th> <td> -3.19e-08</td> <td> 2.56e-09</td> <td>  -12.472</td> <td> 0.000</td> <td>-3.69e-08 -2.69e-08</td>\n",
        "</tr>\n",
        "<tr>\n",
        "  <th>R</th>                    <td>-7.789e-07</td> <td>    0.282</td> <td>-2.76e-06</td> <td> 1.000</td> <td>   -0.553     0.553</td>\n",
        "</tr>\n",
        "<tr>\n",
        "  <th>PG-13</th>                <td> -4.05e-07</td> <td>    0.291</td> <td>-1.39e-06</td> <td> 1.000</td> <td>   -0.570     0.570</td>\n",
        "</tr>\n",
        "<tr>\n",
        "  <th>G</th>                    <td>-1.123e-06</td> <td>    0.530</td> <td>-2.12e-06</td> <td> 1.000</td> <td>   -1.039     1.039</td>\n",
        "</tr>\n",
        "<tr>\n",
        "  <th>PG</th>                   <td>-9.006e-09</td> <td>    0.317</td> <td>-2.84e-08</td> <td> 1.000</td> <td>   -0.621     0.621</td>\n",
        "</tr>\n",
        "<tr>\n",
        "  <th>Warner Bros.</th>         <td> 1.204e-07</td> <td>    0.205</td> <td> 5.86e-07</td> <td> 1.000</td> <td>   -0.403     0.403</td>\n",
        "</tr>\n",
        "<tr>\n",
        "  <th>Fox Searchlight</th>      <td> 1.091e-06</td> <td>    0.306</td> <td> 3.57e-06</td> <td> 1.000</td> <td>   -0.600     0.600</td>\n",
        "</tr>\n",
        "<tr>\n",
        "  <th>Paramount</th>            <td> 4.612e-07</td> <td>    0.256</td> <td>  1.8e-06</td> <td> 1.000</td> <td>   -0.502     0.502</td>\n",
        "</tr>\n",
        "<tr>\n",
        "  <th>Miramax</th>              <td> 5.353e-07</td> <td>    0.280</td> <td> 1.91e-06</td> <td> 1.000</td> <td>   -0.548     0.548</td>\n",
        "</tr>\n",
        "<tr>\n",
        "  <th>Focus Features</th>       <td> 1.091e-06</td> <td>    0.370</td> <td> 2.95e-06</td> <td> 1.000</td> <td>   -0.726     0.726</td>\n",
        "</tr>\n",
        "<tr>\n",
        "  <th>Weinstein Company</th>    <td> 1.091e-06</td> <td>    0.557</td> <td> 1.96e-06</td> <td> 1.000</td> <td>   -1.091     1.091</td>\n",
        "</tr>\n",
        "<tr>\n",
        "  <th>Universal</th>            <td>-1.222e-07</td> <td>    0.221</td> <td>-5.53e-07</td> <td> 1.000</td> <td>   -0.433     0.433</td>\n",
        "</tr>\n",
        "<tr>\n",
        "  <th>Buena Vista</th>          <td> 3.773e-07</td> <td>    0.273</td> <td> 1.38e-06</td> <td> 1.000</td> <td>   -0.535     0.535</td>\n",
        "</tr>\n",
        "<tr>\n",
        "  <th>Ones</th>                 <td>-6.044e-07</td> <td>    0.266</td> <td>-2.27e-06</td> <td> 1.000</td> <td>   -0.521     0.521</td>\n",
        "</tr>\n",
        "</table>"
       ],
       "metadata": {},
       "output_type": "pyout",
       "prompt_number": 48,
       "text": [
        "<class 'statsmodels.iolib.summary.Summary'>\n",
        "\"\"\"\n",
        "                           Logit Regression Results                           \n",
        "==============================================================================\n",
        "Dep. Variable:                  Oscar   No. Observations:                 2321\n",
        "Model:                          Logit   Df Residuals:                     2306\n",
        "Method:                           MLE   Df Model:                           14\n",
        "Date:                Sat, 28 Mar 2015   Pseudo R-squ.:                  -1.662\n",
        "Time:                        17:21:15   Log-Likelihood:                -1021.9\n",
        "converged:                      False   LL-Null:                       -383.93\n",
        "                                        LLR p-value:                     1.000\n",
        "========================================================================================\n",
        "                           coef    std err          z      P>|z|      [95.0% Conf. Int.]\n",
        "----------------------------------------------------------------------------------------\n",
        "ADJ_Budget           -8.304e-07      0.002     -0.000      1.000        -0.005     0.005\n",
        "Domestic_Total_Gross  -3.19e-08   2.56e-09    -12.472      0.000     -3.69e-08 -2.69e-08\n",
        "R                    -7.789e-07      0.282  -2.76e-06      1.000        -0.553     0.553\n",
        "PG-13                 -4.05e-07      0.291  -1.39e-06      1.000        -0.570     0.570\n",
        "G                    -1.123e-06      0.530  -2.12e-06      1.000        -1.039     1.039\n",
        "PG                   -9.006e-09      0.317  -2.84e-08      1.000        -0.621     0.621\n",
        "Warner Bros.          1.204e-07      0.205   5.86e-07      1.000        -0.403     0.403\n",
        "Fox Searchlight       1.091e-06      0.306   3.57e-06      1.000        -0.600     0.600\n",
        "Paramount             4.612e-07      0.256    1.8e-06      1.000        -0.502     0.502\n",
        "Miramax               5.353e-07      0.280   1.91e-06      1.000        -0.548     0.548\n",
        "Focus Features        1.091e-06      0.370   2.95e-06      1.000        -0.726     0.726\n",
        "Weinstein Company     1.091e-06      0.557   1.96e-06      1.000        -1.091     1.091\n",
        "Universal            -1.222e-07      0.221  -5.53e-07      1.000        -0.433     0.433\n",
        "Buena Vista           3.773e-07      0.273   1.38e-06      1.000        -0.535     0.535\n",
        "Ones                 -6.044e-07      0.266  -2.27e-06      1.000        -0.521     0.521\n",
        "========================================================================================\n",
        "\"\"\""
       ]
      }
     ],
     "prompt_number": 48
    },
    {
     "cell_type": "markdown",
     "metadata": {},
     "source": [
      "Unfortunately, the features in this model do not hold enough information, and so the model is currently predicting that every movie does not get nominated"
     ]
    },
    {
     "cell_type": "code",
     "collapsed": false,
     "input": [
      "print logmodel.predict(X)[:10]"
     ],
     "language": "python",
     "metadata": {},
     "outputs": [
      {
       "output_type": "stream",
       "stream": "stdout",
       "text": [
        "[ 0.49481825  0.41900246  0.49991891  0.49530143  0.49619906  0.39771755\n",
        "  0.14425587  0.49525419  0.44841186  0.42064251]\n"
       ]
      }
     ],
     "prompt_number": 49
    },
    {
     "cell_type": "markdown",
     "metadata": {},
     "source": [
      "####Created function to be able to change the threshold in the logistic regression and see if I could capture any more Oscar Nominations, unfortunately it did not improve the model's ability to identify nominees"
     ]
    },
    {
     "cell_type": "code",
     "collapsed": false,
     "input": [
      "def threshold(y, thres = 0.4):\n",
      "    return int(y >= thres)"
     ],
     "language": "python",
     "metadata": {},
     "outputs": [],
     "prompt_number": 224
    },
    {
     "cell_type": "code",
     "collapsed": false,
     "input": [
      "y_pred = map(threshold, logmodel.predict(X))"
     ],
     "language": "python",
     "metadata": {},
     "outputs": [],
     "prompt_number": 225
    },
    {
     "cell_type": "code",
     "collapsed": false,
     "input": [
      "print accuracy_score(Y, y_pred)\n",
      "print precision_score(Y, y_pred)\n",
      "print recall_score(Y, y_pred)"
     ],
     "language": "python",
     "metadata": {},
     "outputs": [
      {
       "output_type": "stream",
       "stream": "stdout",
       "text": [
        "0.736320551486\n",
        "0.00569259962049\n",
        "0.032967032967\n"
       ]
      }
     ],
     "prompt_number": 226
    },
    {
     "cell_type": "markdown",
     "metadata": {},
     "source": [
      "####Look at using the data I have to use a linear regression to try and understand domestic total gross."
     ]
    },
    {
     "cell_type": "code",
     "collapsed": false,
     "input": [
      "##Looking at influence of budget & distributor on predicting dom_total_gross\n",
      "X = clean_movie_data[['ADJ_Budget', 'Warner Bros.', 'Fox Searchlight',\\\n",
      "                      'Paramount', 'Miramax', 'Focus Features',\\\n",
      "                      'Weinstein Company', 'Universal', 'Buena Vista', 'Ones']]\n",
      "Y = clean_movie_data['Domestic_Total_Gross']\n",
      "\n",
      "linmodel = sm.OLS(Y, X).fit()\n",
      "linmodel.summary()"
     ],
     "language": "python",
     "metadata": {},
     "outputs": [
      {
       "html": [
        "<table class=\"simpletable\">\n",
        "<caption>OLS Regression Results</caption>\n",
        "<tr>\n",
        "  <th>Dep. Variable:</th>    <td>Domestic_Total_Gross</td> <th>  R-squared:         </th> <td>   0.435</td> \n",
        "</tr>\n",
        "<tr>\n",
        "  <th>Model:</th>                     <td>OLS</td>         <th>  Adj. R-squared:    </th> <td>   0.433</td> \n",
        "</tr>\n",
        "<tr>\n",
        "  <th>Method:</th>               <td>Least Squares</td>    <th>  F-statistic:       </th> <td>   190.3</td> \n",
        "</tr>\n",
        "<tr>\n",
        "  <th>Date:</th>               <td>Thu, 29 Jan 2015</td>   <th>  Prob (F-statistic):</th> <td>3.12e-268</td>\n",
        "</tr>\n",
        "<tr>\n",
        "  <th>Time:</th>                   <td>10:51:19</td>       <th>  Log-Likelihood:    </th> <td> -43304.</td> \n",
        "</tr>\n",
        "<tr>\n",
        "  <th>No. Observations:</th>        <td>  2236</td>        <th>  AIC:               </th> <td>8.663e+04</td>\n",
        "</tr>\n",
        "<tr>\n",
        "  <th>Df Residuals:</th>            <td>  2226</td>        <th>  BIC:               </th> <td>8.668e+04</td>\n",
        "</tr>\n",
        "<tr>\n",
        "  <th>Df Model:</th>                <td>     9</td>        <th>                     </th>     <td> </td>    \n",
        "</tr>\n",
        "<tr>\n",
        "  <th>Covariance Type:</th>        <td>nonrobust</td>      <th>                     </th>     <td> </td>    \n",
        "</tr>\n",
        "</table>\n",
        "<table class=\"simpletable\">\n",
        "<tr>\n",
        "          <td></td>             <th>coef</th>     <th>std err</th>      <th>t</th>      <th>P>|t|</th> <th>[95.0% Conf. Int.]</th> \n",
        "</tr>\n",
        "<tr>\n",
        "  <th>ADJ_Budget</th>        <td> 1.167e+06</td> <td>  3.1e+04</td> <td>   37.634</td> <td> 0.000</td> <td> 1.11e+06  1.23e+06</td>\n",
        "</tr>\n",
        "<tr>\n",
        "  <th>Warner Bros.</th>      <td> 6.026e+05</td> <td> 4.51e+06</td> <td>    0.133</td> <td> 0.894</td> <td>-8.25e+06  9.46e+06</td>\n",
        "</tr>\n",
        "<tr>\n",
        "  <th>Fox Searchlight</th>   <td>-2.766e+06</td> <td> 9.04e+06</td> <td>   -0.306</td> <td> 0.760</td> <td>-2.05e+07   1.5e+07</td>\n",
        "</tr>\n",
        "<tr>\n",
        "  <th>Paramount</th>         <td> 1.032e+07</td> <td> 5.29e+06</td> <td>    1.952</td> <td> 0.051</td> <td>-4.95e+04  2.07e+07</td>\n",
        "</tr>\n",
        "<tr>\n",
        "  <th>Miramax</th>           <td>-7.673e+06</td> <td> 7.78e+06</td> <td>   -0.986</td> <td> 0.324</td> <td>-2.29e+07  7.59e+06</td>\n",
        "</tr>\n",
        "<tr>\n",
        "  <th>Focus Features</th>    <td>-1.089e+07</td> <td>  1.1e+07</td> <td>   -0.988</td> <td> 0.323</td> <td>-3.25e+07  1.07e+07</td>\n",
        "</tr>\n",
        "<tr>\n",
        "  <th>Weinstein Company</th> <td>-8.424e+06</td> <td> 1.68e+07</td> <td>   -0.502</td> <td> 0.616</td> <td>-4.13e+07  2.45e+07</td>\n",
        "</tr>\n",
        "<tr>\n",
        "  <th>Universal</th>         <td> 7.868e+06</td> <td> 4.65e+06</td> <td>    1.692</td> <td> 0.091</td> <td>-1.25e+06   1.7e+07</td>\n",
        "</tr>\n",
        "<tr>\n",
        "  <th>Buena Vista</th>       <td> 1.613e+07</td> <td> 5.26e+06</td> <td>    3.067</td> <td> 0.002</td> <td> 5.82e+06  2.64e+07</td>\n",
        "</tr>\n",
        "<tr>\n",
        "  <th>Ones</th>              <td> 1.196e+07</td> <td> 2.09e+06</td> <td>    5.730</td> <td> 0.000</td> <td> 7.87e+06  1.61e+07</td>\n",
        "</tr>\n",
        "</table>\n",
        "<table class=\"simpletable\">\n",
        "<tr>\n",
        "  <th>Omnibus:</th>       <td>1143.375</td> <th>  Durbin-Watson:     </th> <td>   2.060</td> \n",
        "</tr>\n",
        "<tr>\n",
        "  <th>Prob(Omnibus):</th>  <td> 0.000</td>  <th>  Jarque-Bera (JB):  </th> <td>12310.774</td>\n",
        "</tr>\n",
        "<tr>\n",
        "  <th>Skew:</th>           <td> 2.167</td>  <th>  Prob(JB):          </th> <td>    0.00</td> \n",
        "</tr>\n",
        "<tr>\n",
        "  <th>Kurtosis:</th>       <td>13.647</td>  <th>  Cond. No.          </th> <td>    816.</td> \n",
        "</tr>\n",
        "</table>"
       ],
       "metadata": {},
       "output_type": "pyout",
       "prompt_number": 327,
       "text": [
        "<class 'statsmodels.iolib.summary.Summary'>\n",
        "\"\"\"\n",
        "                             OLS Regression Results                             \n",
        "================================================================================\n",
        "Dep. Variable:     Domestic_Total_Gross   R-squared:                       0.435\n",
        "Model:                              OLS   Adj. R-squared:                  0.433\n",
        "Method:                   Least Squares   F-statistic:                     190.3\n",
        "Date:                  Thu, 29 Jan 2015   Prob (F-statistic):          3.12e-268\n",
        "Time:                          10:51:19   Log-Likelihood:                -43304.\n",
        "No. Observations:                  2236   AIC:                         8.663e+04\n",
        "Df Residuals:                      2226   BIC:                         8.668e+04\n",
        "Df Model:                             9                                         \n",
        "Covariance Type:              nonrobust                                         \n",
        "=====================================================================================\n",
        "                        coef    std err          t      P>|t|      [95.0% Conf. Int.]\n",
        "-------------------------------------------------------------------------------------\n",
        "ADJ_Budget         1.167e+06    3.1e+04     37.634      0.000      1.11e+06  1.23e+06\n",
        "Warner Bros.       6.026e+05   4.51e+06      0.133      0.894     -8.25e+06  9.46e+06\n",
        "Fox Searchlight   -2.766e+06   9.04e+06     -0.306      0.760     -2.05e+07   1.5e+07\n",
        "Paramount          1.032e+07   5.29e+06      1.952      0.051     -4.95e+04  2.07e+07\n",
        "Miramax           -7.673e+06   7.78e+06     -0.986      0.324     -2.29e+07  7.59e+06\n",
        "Focus Features    -1.089e+07    1.1e+07     -0.988      0.323     -3.25e+07  1.07e+07\n",
        "Weinstein Company -8.424e+06   1.68e+07     -0.502      0.616     -4.13e+07  2.45e+07\n",
        "Universal          7.868e+06   4.65e+06      1.692      0.091     -1.25e+06   1.7e+07\n",
        "Buena Vista        1.613e+07   5.26e+06      3.067      0.002      5.82e+06  2.64e+07\n",
        "Ones               1.196e+07   2.09e+06      5.730      0.000      7.87e+06  1.61e+07\n",
        "==============================================================================\n",
        "Omnibus:                     1143.375   Durbin-Watson:                   2.060\n",
        "Prob(Omnibus):                  0.000   Jarque-Bera (JB):            12310.774\n",
        "Skew:                           2.167   Prob(JB):                         0.00\n",
        "Kurtosis:                      13.647   Cond. No.                         816.\n",
        "==============================================================================\n",
        "\n",
        "Warnings:\n",
        "[1] Standard Errors assume that the covariance matrix of the errors is correctly specified.\n",
        "\"\"\""
       ]
      }
     ],
     "prompt_number": 327
    },
    {
     "cell_type": "markdown",
     "metadata": {},
     "source": [
      "Unfortunately, the linear regression was not very predictive either. \n",
      "\n",
      "I need to gather more information to be able to have any predictive value in my model. "
     ]
    }
   ],
   "metadata": {}
  }
 ]
}